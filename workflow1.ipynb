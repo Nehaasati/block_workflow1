{
 "cells": [
  {
   "cell_type": "code",
   "execution_count": 54,
   "id": "88f013a4",
   "metadata": {},
   "outputs": [],
   "source": [
    "from typing_extensions import TypedDict\n",
    "from langgraph.graph import StateGraph, START, END\n",
    "from langchain_groq import ChatGroq\n",
    "import os\n",
    "from dotenv import load_dotenv\n",
    "load_dotenv()\n",
    "from IPython.display import Image, display\n",
    "\n",
    "\n",
    "GROQ_API_KEY = os.getenv(\"GROQ_API_KEY\")\n"
   ]
  },
  {
   "cell_type": "code",
   "execution_count": 55,
   "id": "7a168fe2",
   "metadata": {},
   "outputs": [
    {
     "data": {
      "text/plain": [
       "AIMessage(content='<think>\\n\\n</think>\\n\\nHello! How can I assist you today?', additional_kwargs={}, response_metadata={'token_usage': {'completion_tokens': 14, 'prompt_tokens': 4, 'total_tokens': 18, 'completion_time': 0.055592392, 'prompt_time': 0.009458601, 'queue_time': 0.08425774700000001, 'total_time': 0.065050993}, 'model_name': 'deepseek-r1-distill-llama-70b', 'system_fingerprint': 'fp_1bbe7845ec', 'service_tier': 'on_demand', 'finish_reason': 'stop', 'logprobs': None}, id='run--76597276-e9d3-43c1-8a9e-b071ee3d193f-0', usage_metadata={'input_tokens': 4, 'output_tokens': 14, 'total_tokens': 18})"
      ]
     },
     "execution_count": 55,
     "metadata": {},
     "output_type": "execute_result"
    }
   ],
   "source": [
    "#llm=ChatGroq(model=\"qwen-2.5-32b\")\n",
    "llm =ChatGroq(model=\"deepseek-r1-distill-llama-70b\")\n",
    "result=llm.invoke(\"Hello\")\n",
    "result"
   ]
  },
  {
   "cell_type": "code",
   "execution_count": 56,
   "id": "fb821d24",
   "metadata": {},
   "outputs": [],
   "source": [
    "class State(TypedDict):\n",
    "    topic: str\n",
    "    blog:str\n",
    "    improved_blog:str\n",
    "    final_blog:str\n",
    "\n",
    "    "
   ]
  },
  {
   "cell_type": "code",
   "execution_count": 57,
   "id": "ec383dac",
   "metadata": {},
   "outputs": [],
   "source": [
    "State = dict  # Replace with your actual state type if defined\n",
    "\n",
    "# Node function\n",
    "def get_topic(state: dict) -> dict:\n",
    "    \"\"\"Get topic from user, then use LLM to write blog\"\"\"\n",
    "    msg = llm.invoke(f\"Write a blog about {state['topic']}\")\n",
    "    return {\"blog\": msg.content}"
   ]
  },
  {
   "cell_type": "code",
   "execution_count": 58,
   "id": "21e6e6d3",
   "metadata": {},
   "outputs": [],
   "source": [
    "def check_blog(state: State) -> str:\n",
    "    \"\"\"Gate function to check if the blog has a punchline.\"\"\"\n",
    "    if \"?\" in state[\"blog\"] or \"!\" in state[\"blog\"]:\n",
    "        return \"fail\"\n",
    "    return \"pass\""
   ]
  },
  {
   "cell_type": "code",
   "execution_count": 59,
   "id": "786cc34d",
   "metadata": {},
   "outputs": [],
   "source": [
    "def improve_blog(state: State) -> dict:\n",
    "    \"\"\"LLM improves blog with humor.\"\"\"\n",
    "    msg = llm.invoke(f\"Improve this blog using wordplay and humor: {state['blog']}\")\n",
    "    return {\"improved_blog\": msg.content}\n",
    "\n",
    "def polish_blog(state: State) -> dict:\n",
    "    \"\"\"Final polish with a twist.\"\"\"\n",
    "    msg = llm.invoke(f\"Add a surprising twist to this blog: {state['improved_blog']}\")\n",
    "    return {\"final_blog\": msg.content}\n"
   ]
  },
  {
   "cell_type": "code",
   "execution_count": 60,
   "id": "535335d2",
   "metadata": {},
   "outputs": [
    {
     "data": {
      "image/png": "[encoded data removed]",
      "text/plain": [
       "<IPython.core.display.Image object>"
      ]
     },
     "metadata": {},
     "output_type": "display_data"
    },
    {
     "name": "stdout",
     "output_type": "stream",
     "text": [
      "{'final_blog': '<think>\\nAlright, I need to add a surprising twist to this blog about the art of living a happy life. The original blog is pretty comprehensive, covering gratitude, mindfulness, relationships, self-care, passions, purpose, positivity, and embracing change. It\\'s well-structured and offers practical advice, but it\\'s quite traditional. To make it stand out, I should introduce something unexpected that challenges the reader\\'s assumptions or offers a fresh perspective.\\n\\nLet me brainstorm some ideas for twists. Maybe the key to happiness isn\\'t just about positive thinking, but also about embracing negative emotions. Or perhaps the idea that failure is crucial for true happiness. Another angle could be the importance of solitude in a world that emphasizes social connections. Or maybe the role of mystery and the unknown in keeping life exciting.\\n\\nI think the twist that could be most impactful is to challenge the common belief that happiness comes from constant positivity. Instead, the twist could be that true happiness comes from embracing life\\'s full spectrum of emotions, including sadness and failure. This would provide a contrasting view that encourages readers to think differently about their pursuit of happiness.\\n\\nNow, I need to integrate this twist into the existing blog without disrupting its flow. I\\'ll add a new section that presents this idea, perhaps after the positivity section. I\\'ll title it something like \"The Power of Embracing the Full Spectrum of Emotions\" or \"Happiness Beyond Positivity.\"\\n\\nIn this new section, I\\'ll explain that while positivity is important, it\\'s equally crucial to allow ourselves to feel and process negative emotions. I\\'ll discuss how suppressing these emotions can lead to imbalance and that true resilience comes from experiencing and understanding all emotions. I\\'ll also provide tips on how to embrace this approach, like practicing emotional acceptance and mindfulness of all feelings, not just the positive ones.\\n\\nI need to ensure the twist is surprising but still relevant and supportive of the blog\\'s overall theme. It should enhance the reader\\'s understanding by offering a deeper, more nuanced view of happiness. I\\'ll make sure the language is engaging and that the new section flows naturally with the rest of the content.\\n\\nFinally, I\\'ll conclude by reinforcing how this twist ties back to the original message, emphasizing that true happiness is about living a whole and balanced life, not just chasing positive emotions. This will leave the reader with a more comprehensive understanding and a fresh perspective on achieving happiness.\\n</think>\\n\\n**The Art of Living a Happy Life: A Step-by-Step Guide**\\n\\n**Introduction**\\n\\nIn the grand symphony of life, happiness is the melody that makes the journey worthwhile. But what does it truly mean to live a happy life? It’s not about the crescendo of big achievements or the dramatic plot twists, but about the everyday moments that strike a chord deep within us. Let’s embark on a journey to discover the art of living a happy life, where the canvas of our existence is painted with vibrant colors of joy, gratitude, and purpose.\\n\\n**1. Gratitude: The Golden Ticket to Happiness**\\n\\nGratitude is the secret sauce that turns the mundane into the magical. It’s the spark that ignites the fire of happiness in our hearts. So, how do we cultivate this powerful emotion? Start by keeping a gratitude journal. Every morning, jot down three things you’re thankful for—whether it’s the steaming cup of coffee that kick-starts your day or the warm smile of a friend. This simple practice is like a golden ticket that grants you access to a world of positivity and abundance.\\n\\n**2. Embracing the Present Moment: The Art of Mindfulness**\\n\\nIn a world that’s constantly on fast-forward, mindfulness is the pause button that brings us back to the present. It’s the art of savoring the now, of tasting the sweetness of the moment. So, the next time you’re tempted to rush through your morning, take a deep breath and notice the little things—the way the sunlight filters through the blinds, the sound of birds chirping, or the aroma of freshly baked bread. Mindfulness is like a master key that unlocks the door to a more fulfilling and joyful life.\\n\\n**3. Cultivating Meaningful Relationships: The Garden of Love**\\n\\nRelationships are the soil in which happiness grows. Nurturing meaningful connections with family and friends is like tending to a beautiful garden—requires effort, patience, and love. So, take the time to water your relationships with kindness, understanding, and quality time. And remember, just as a garden needs pruning to grow stronger, sometimes it’s necessary to let go of toxic relationships that drain your energy and sap your joy.\\n\\n**4. Taking Care of Yourself: The Art of Self-Love**\\n\\nSelf-care is not selfish; it’s essential. Taking care of your physical, mental, and emotional well-being is like fine-tuning a musical instrument—without it, the melody of life would be out of tune. So, make sure to get enough sleep, eat nourishing food, and engage in activities that bring you joy and relaxation. Whether it’s a peaceful walk in nature, a good book, or a soothing bath, remember that taking care of yourself is the best investment you can make.\\n\\n**5. Pursuing Passions and Interests: The Spark of Joy**\\n\\nPassions and interests are the spark plugs that ignite the engine of happiness. Whether it’s playing a musical instrument, painting, cooking, or any other activity that sets your soul on fire, make sure to carve out time for the things you love. Remember, life is a canvas—paint it with vibrant colors, bold strokes, and unbridled passion.\\n\\n**6. Living with Purpose: The North Star of Happiness**\\n\\nLiving with purpose is like having a North Star that guides you through the journey of life. It’s the reason you get up in the morning, the fire that fuels your passions, and the compass that directs your actions. So, take the time to reflect on what truly matters to you, and align your life with those values. Whether it’s helping others, pursuing a cause, or simply being the best version of yourself, living with purpose is the key to a life of fulfillment and joy.\\n\\n**7. Practicing Positivity: The Power of Perspective**\\n\\nPositivity is not about wearing rose-colored glasses; it’s about choosing to see the silver lining even in the darkest clouds. It’s the ability to reframe challenges as opportunities, to find the lesson in every setback, and to approach life with a can-do attitude. So, the next time life gives you lemons, don’t just make lemonade—throw a lemon party and invite the world to join in.\\n\\n**8. Embracing Change and Flexibility: The Dance of Life**\\n\\nChange is the only constant in life, and flexibility is the dance that allows us to move gracefully through its twists and turns. So, the next time life throws you a curveball, don’t resist it—catch it with an open heart and mind. Remember, every experience is a teacher, and every challenge is an opportunity to grow stronger, wiser, and more resilient.\\n\\n**9. The Power of Embracing the Full Spectrum of Emotions**\\n\\nIn a world that often champions perpetual positivity, it’s easy to overlook the value of experiencing and accepting the full range of human emotions. Happiness isn’t just about chasing joy; it’s also about embracing sadness, anger, and even failure. These emotions, though uncomfortable, are integral to a balanced and fulfilling life. They teach us resilience, deepen our empathy, and provide contrast that makes our joys more profound. So, when life brings you sorrow, allow yourself to feel it, to process it, and to grow from it. Remember, true happiness is not about avoiding the dark but about dancing in the light with a heart that’s been tempered by the shadows.\\n\\n**10. Happiness Beyond Positivity: A Surprising Twist**\\n\\nHere’s the surprising twist: true happiness isn’t just about cultivating positivity but also about embracing life’s full emotional spectrum. While positivity is a powerful tool, it’s equally important to allow ourselves to feel and process negative emotions. Suppressing these feelings can lead to imbalance and hinder our ability to fully experience joy. By practicing emotional acceptance and mindfulness of all emotions, we build resilience and gain a deeper understanding of ourselves. This balanced approach to emotions is the key to a more authentic and enduring happiness.\\n\\n**Conclusion**\\n\\nHappiness is not a destination; it’s a journey—a beautiful, messy, magnificent journey. It’s the laughter, the tears, the triumphs, and the tribulations. It’s the sum of all the little moments that make life worth living. So, as you navigate the twists and turns of your own journey, remember to embrace gratitude, live in the present, nurture your relationships, take care of yourself, pursue your passions, live with purpose, practice positivity, and dance with change. But most importantly, remember that true happiness comes from living a whole and balanced life, where every emotion—whether joy or sorrow—has its place. So, go out there and create a life that’s as vibrant, colorful, and joyful as you are.'}\n"
     ]
    }
   ],
   "source": [
    "# Step 2: Build the workflow\n",
    "workflow = StateGraph(State)\n",
    "\n",
    "workflow.add_node(\"get_topic\", get_topic)\n",
    "workflow.add_node(\"improve_blog\", improve_blog)\n",
    "workflow.add_node(\"polish_blog\", polish_blog)\n",
    "\n",
    "workflow.add_edge(START, \"get_topic\")\n",
    "workflow.add_conditional_edges(\"get_topic\", check_blog, {\"fail\": \"improve_blog\", \"pass\": END})\n",
    "workflow.add_edge(\"improve_blog\", \"polish_blog\")\n",
    "workflow.add_edge(\"polish_blog\", END)\n",
    "\n",
    "# Step 3: Compile and run\n",
    "chain = workflow.compile()\n",
    "\n",
    "# Optional: visualize\n",
    "display(Image(chain.get_graph().draw_mermaid_png()))\n",
    "\n",
    "# Step 4: Invoke the workflow\n",
    "state = chain.invoke({\"topic\": \"Art of living a happy life\"})\n",
    "print(state)\n"
   ]
  }
 ],
 "metadata": {
  "kernelspec": {
   "display_name": "venv",
   "language": "python",
   "name": "python3"
  },
  "language_info": {
   "codemirror_mode": {
    "name": "ipython",
    "version": 3
   },
   "file_extension": ".py",
   "mimetype": "text/x-python",
   "name": "python",
   "nbconvert_exporter": "python",
   "pygments_lexer": "ipython3",
   "version": "3.11.4"
  }
 },
 "nbformat": 4,
 "nbformat_minor": 5
}
